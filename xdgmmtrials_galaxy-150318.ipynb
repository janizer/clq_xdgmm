{
 "cells": [
  {
   "cell_type": "code",
   "execution_count": 39,
   "metadata": {
    "collapsed": true
   },
   "outputs": [],
   "source": [
    "%matplotlib inline"
   ]
  },
  {
   "cell_type": "code",
   "execution_count": null,
   "metadata": {
    "collapsed": true
   },
   "outputs": [],
   "source": []
  },
  {
   "cell_type": "code",
   "execution_count": null,
   "metadata": {
    "collapsed": true
   },
   "outputs": [],
   "source": []
  },
  {
   "cell_type": "code",
   "execution_count": 9,
   "metadata": {
    "collapsed": false,
    "scrolled": true
   },
   "outputs": [
    {
     "name": "stdout",
     "output_type": "stream",
     "text": [
      "starting\n",
      "47522\n",
      "3015\n",
      "yes\n"
     ]
    }
   ],
   "source": [
    "import sklearn\n",
    "import nose\n",
    "import astroML_addons\n",
    "import astroML\n",
    "import scipy\n",
    "import pandas\n",
    "import xdgmm\n",
    "from astropy.io import fits\n",
    "import csv\n",
    "import os\n",
    "from shutil import copyfile\n",
    "import numpy as np\n",
    "import matplotlib.pyplot as plt\n",
    "\n",
    "#from demo_plots import *\n",
    "\n",
    "import requests\n",
    "import ast\n",
    "\n",
    "import warnings\n",
    "warnings.filterwarnings('ignore')\n",
    "\n",
    "def fetchFirstVals():\n",
    "    \n",
    "    deltaW = []\n",
    "    sigW = []\n",
    "    w1 = []\n",
    "    w2 = []\n",
    "    w1s = []\n",
    "    w2s = []\n",
    "    mjd = []\n",
    "    name = []\n",
    "    \n",
    "\n",
    "    directorystr = './csvfiles/galaxy_csvfiles-150318/'\n",
    "    directory = os.fsencode(directorystr)\n",
    "    filelist = os.listdir(directory)\n",
    "    print(len(filelist))\n",
    "    readdata = np.zeros((22,len(filelist))) #one big list to rule them all\n",
    "    fileCount = 0 #to keep our place in each list as we go through the files\n",
    "    blankCount = 0\n",
    "    for file in filelist:\n",
    "        filestr = os.fsdecode(file)\n",
    "        if(filestr.endswith(\".csv\")):\n",
    "            readfile = open('./csvfiles/galaxy_csvfiles-150318/'+filestr, 'r')\n",
    "            #name.append(filestr)\n",
    "            reader = csv.reader(readfile)\n",
    "            typeIndex = 0 #to iterate through the w1, w2, etc list\n",
    "            nullCount = 0\n",
    "            rowCount = 0\n",
    "            try:\n",
    "                for row in enumerate(reader):\n",
    "                    entry = row[1][0]\n",
    "                    try:\n",
    "                        fentry = float(entry)\n",
    "                    except ValueError:\n",
    "                        if entry != 'null':\n",
    "                            #print(\"String!\")\n",
    "                            rowCount = rowCount + 1 #keep track of where we are in the file\n",
    "                            continue #skip to next row, do not increment readdata row\n",
    "                        else:\n",
    "                            #print(\"Null!\")\n",
    "                            nullCount = nullCount + 1 #this is a null in W1 or W2. don't want this file\n",
    "                    \n",
    "                    #print(fentry)\n",
    "                    readdata[typeIndex][fileCount] = fentry\n",
    "                    rowCount = rowCount + 1 #move on to the next row in the file\n",
    "                    typeIndex = typeIndex + 1 #move to next row in the data array\n",
    "                    if rowCount == 14:\n",
    "                        break #move on to next file.\n",
    "                if nullCount == 0:\n",
    "                    fileCount = fileCount + 1 #overwrite if we found null in W1, W2.\n",
    "                    name.append(filestr)\n",
    "            except IndexError:\n",
    "                #print(readdata[0][fileCount])\n",
    "                #print(filestr)\n",
    "                #print(\"IndexError\")\n",
    "                blankCount = blankCount + 1\n",
    "                continue\n",
    "                #break\n",
    "                \n",
    "    print(blankCount)       \n",
    "    w1 = [float(x) for x in readdata[1]]\n",
    "    #print(w1)\n",
    "    w2 = [float(x) for x in readdata[3]]\n",
    "    #print(w2)\n",
    "    w1s = [float(x) for x in readdata[2]]\n",
    "    #print(w1s)\n",
    "    w2s = [float(x) for x in readdata[4]]\n",
    "    #print(w2s)\n",
    "    \n",
    "    #print(name)\n",
    "    \n",
    "    deltaW = [x - y for x,y in zip(w1,w2)]\n",
    "    sigW = [np.sqrt(sx**2 + sy**2) for sx,sy in zip(w1s, w2s)]\n",
    "    \n",
    "    notNullCount = 0\n",
    "    for val in w1:\n",
    "        if val != 0:\n",
    "            notNullCount = notNullCount +1\n",
    "    deltaW = deltaW[:notNullCount]\n",
    "    sigW = sigW[:notNullCount]\n",
    "    \n",
    "    return deltaW, sigW, notNullCount\n",
    "\n",
    "print(\"starting\")\n",
    "result = fetchFirstVals()\n",
    "deltaW = result[0]\n",
    "sigW = result[1]\n",
    "npoints = result[2]\n",
    "#print(deltaW)\n",
    "xdgmm = xdgmm.XDGMM()\n",
    "\n",
    "param_range = np.array([1, 2, 3, 4, 5, 6, 7, 8, 9, 10])\n",
    "deltaW = np.array(deltaW)\n",
    "\n",
    "deltaW = deltaW.reshape(deltaW.shape[0], 1)\n",
    "#print(deltaW.shape)\n",
    "sigW = np.array(sigW)\n",
    "\n",
    "sigW = sigW.reshape(sigW.shape[0], 1,1)\n",
    "#print(sigW.shape)\n",
    "\n",
    "#bic, optimal_n_comp, lowest_bic = xdgmm.bic_test(deltaW, sigW, param_range)\n",
    "\n",
    "print('yes')\n"
   ]
  },
  {
   "cell_type": "code",
   "execution_count": null,
   "metadata": {
    "collapsed": true
   },
   "outputs": [],
   "source": [
    "print(deltaW)"
   ]
  },
  {
   "cell_type": "code",
   "execution_count": 5,
   "metadata": {
    "collapsed": false
   },
   "outputs": [
    {
     "name": "stdout",
     "output_type": "stream",
     "text": [
      "starting\n",
      "done\n"
     ]
    }
   ],
   "source": [
    "import datetime\n",
    "#print(datetime.datetime.now().strftime(\"%Y-%m-%d\"))\n",
    "datestr = datetime.datetime.now().strftime(\"%Y-%m-%d\")\n",
    "\n",
    "print(\"starting\")\n",
    "xdgmm.n_components = 9\n",
    "xdgmm = xdgmm.fit(deltaW, sigW)\n",
    "print('done')\n",
    "\n",
    "xdgmm.save_model('galaxyTrialSet'+datestr+'.fit')"
   ]
  },
  {
   "cell_type": "code",
   "execution_count": null,
   "metadata": {
    "collapsed": true
   },
   "outputs": [],
   "source": []
  },
  {
   "cell_type": "code",
   "execution_count": 8,
   "metadata": {
    "collapsed": false,
    "scrolled": false
   },
   "outputs": [
    {
     "ename": "NameError",
     "evalue": "name 'npoints' is not defined",
     "output_type": "error",
     "traceback": [
      "\u001b[0;31m---------------------------------------------------------------------------\u001b[0m",
      "\u001b[0;31mNameError\u001b[0m                                 Traceback (most recent call last)",
      "\u001b[0;32m<ipython-input-8-1e750d4b86fe>\u001b[0m in \u001b[0;36m<module>\u001b[0;34m()\u001b[0m\n\u001b[1;32m     33\u001b[0m \u001b[0mbinwidth\u001b[0m \u001b[0;34m=\u001b[0m \u001b[0;36m0.01\u001b[0m\u001b[0;34m\u001b[0m\u001b[0m\n\u001b[1;32m     34\u001b[0m \u001b[0;34m\u001b[0m\u001b[0m\n\u001b[0;32m---> 35\u001b[0;31m \u001b[0msample\u001b[0m \u001b[0;34m=\u001b[0m \u001b[0mxdgmm\u001b[0m\u001b[0;34m.\u001b[0m\u001b[0msample\u001b[0m\u001b[0;34m(\u001b[0m\u001b[0mnpoints\u001b[0m\u001b[0;34m)\u001b[0m\u001b[0;34m\u001b[0m\u001b[0m\n\u001b[0m\u001b[1;32m     36\u001b[0m \u001b[0mplt\u001b[0m\u001b[0;34m.\u001b[0m\u001b[0mfigure\u001b[0m\u001b[0;34m(\u001b[0m\u001b[0;34m)\u001b[0m\u001b[0;34m\u001b[0m\u001b[0m\n\u001b[1;32m     37\u001b[0m \u001b[0mh1\u001b[0m \u001b[0;34m=\u001b[0m \u001b[0mplt\u001b[0m\u001b[0;34m.\u001b[0m\u001b[0mhist\u001b[0m\u001b[0;34m(\u001b[0m\u001b[0msample\u001b[0m\u001b[0;34m,\u001b[0m \u001b[0mbins\u001b[0m\u001b[0;34m=\u001b[0m\u001b[0mnp\u001b[0m\u001b[0;34m.\u001b[0m\u001b[0marange\u001b[0m\u001b[0;34m(\u001b[0m\u001b[0;34m-\u001b[0m\u001b[0;36m1\u001b[0m\u001b[0;34m,\u001b[0m \u001b[0;36m3\u001b[0m\u001b[0;34m,\u001b[0m \u001b[0mbinwidth\u001b[0m\u001b[0;34m)\u001b[0m\u001b[0;34m)\u001b[0m\u001b[0;34m\u001b[0m\u001b[0m\n",
      "\u001b[0;31mNameError\u001b[0m: name 'npoints' is not defined"
     ]
    }
   ],
   "source": [
    "%matplotlib inline\n",
    "\n",
    "\n",
    "import sklearn\n",
    "import nose\n",
    "import astroML_addons\n",
    "import astroML\n",
    "import scipy\n",
    "import pandas\n",
    "import xdgmm\n",
    "from astropy.io import fits\n",
    "import csv\n",
    "import os\n",
    "from shutil import copyfile\n",
    "import numpy as np\n",
    "import matplotlib.pyplot as plt\n",
    "\n",
    "#from demo_plots import *\n",
    "\n",
    "import requests\n",
    "import ast\n",
    "\n",
    "import warnings\n",
    "warnings.filterwarnings('ignore')\n",
    "\n",
    "np.set_printoptions(threshold=np.nan)\n",
    "\n",
    "xdgmm = xdgmm.XDGMM(filename='galaxyTrialSet2018-03-22.fit')         \n",
    "    \n",
    "def makeGaussian(x, mu, sig):\n",
    "    return (np.exp(-np.power(x - mu, 2.) / (2 * np.power(sig, 2.))))/(2.0*np.pi*sig)\n",
    "\n",
    "binwidth = 0.01\n",
    "\n",
    "sample = xdgmm.sample(npoints)\n",
    "plt.figure()\n",
    "h1 = plt.hist(sample, bins=np.arange(-1, 3, binwidth))\n",
    "plt.title('XDGMM-resampled W1-W2 band magnitude difference')\n",
    "plt.xlabel('Magnitude difference')\n",
    "plt.ylabel('Occurrence')\n",
    "\n",
    "\n",
    "\n",
    "plt.figure()\n",
    "\n",
    "#for mu, alpha in xdgmm.mu, xdgmm.weights:\n",
    "x = np.arange(-0.5, 2.5, 0.01)\n",
    "plt.plot(x, makeGaussian(x, xdgmm.mu[0], xdgmm.weights[0]))\n",
    "plt.plot(x, makeGaussian(x, xdgmm.mu[1], xdgmm.weights[1]))\n",
    "plt.plot(x, makeGaussian(x, xdgmm.mu[2], xdgmm.weights[2]))\n",
    "plt.plot(x, makeGaussian(x, xdgmm.mu[3], xdgmm.weights[3]))\n",
    "plt.plot(x, makeGaussian(x, xdgmm.mu[4], xdgmm.weights[4]))\n",
    "plt.plot(x, makeGaussian(x, xdgmm.mu[5], xdgmm.weights[4]))\n",
    "plt.plot(x, makeGaussian(x, xdgmm.mu[6], xdgmm.weights[4]))\n",
    "plt.plot(x, makeGaussian(x, xdgmm.mu[7], xdgmm.weights[4]))\n",
    "plt.plot(x, makeGaussian(x, xdgmm.mu[8], xdgmm.weights[4]))\n",
    "plt.title('Gaussian model components')\n",
    "plt.xlabel('Magnitude difference')\n",
    "plt.ylabel('Weight')\n",
    "\n",
    "#print(deltaW)\n",
    "\n",
    "plt.figure()\n",
    "\n",
    "plt.hist(deltaW, bins=np.arange(-1, 3, binwidth))\n",
    "plt.title('True W1-W2 band magnitude difference')\n",
    "plt.xlabel('Magnitude difference')\n",
    "plt.ylabel('Occurrence')\n"
   ]
  },
  {
   "cell_type": "code",
   "execution_count": 82,
   "metadata": {
    "collapsed": false
   },
   "outputs": [
    {
     "ename": "TypeError",
     "evalue": "'float' object is not subscriptable",
     "output_type": "error",
     "traceback": [
      "\u001b[0;31m---------------------------------------------------------------------------\u001b[0m",
      "\u001b[0;31mTypeError\u001b[0m                                 Traceback (most recent call last)",
      "\u001b[0;32m<ipython-input-82-2d42125c5ecc>\u001b[0m in \u001b[0;36m<module>\u001b[0;34m()\u001b[0m\n\u001b[0;32m----> 1\u001b[0;31m \u001b[0mtryProp\u001b[0m \u001b[0;34m=\u001b[0m \u001b[0mxdgmm\u001b[0m\u001b[0;34m.\u001b[0m\u001b[0mscore_samples\u001b[0m\u001b[0;34m(\u001b[0m\u001b[0;36m1.5\u001b[0m\u001b[0;34m,\u001b[0m \u001b[0;36m0.03\u001b[0m\u001b[0;34m)\u001b[0m\u001b[0;34m\u001b[0m\u001b[0m\n\u001b[0m",
      "\u001b[0;32m/Users/maclean/Documents/CLQ research project/code/xdgmm.py\u001b[0m in \u001b[0;36mscore_samples\u001b[0;34m(self, X, Xerr)\u001b[0m\n\u001b[1;32m    209\u001b[0m         \u001b[0mtmp_GMM\u001b[0m\u001b[0;34m.\u001b[0m\u001b[0mmeans_\u001b[0m \u001b[0;34m=\u001b[0m \u001b[0mself\u001b[0m\u001b[0;34m.\u001b[0m\u001b[0mmu\u001b[0m\u001b[0;34m\u001b[0m\u001b[0m\n\u001b[1;32m    210\u001b[0m \u001b[0;34m\u001b[0m\u001b[0m\n\u001b[0;32m--> 211\u001b[0;31m         \u001b[0mX\u001b[0m \u001b[0;34m=\u001b[0m \u001b[0mX\u001b[0m\u001b[0;34m[\u001b[0m\u001b[0;34m:\u001b[0m\u001b[0;34m,\u001b[0m \u001b[0mnp\u001b[0m\u001b[0;34m.\u001b[0m\u001b[0mnewaxis\u001b[0m\u001b[0;34m,\u001b[0m \u001b[0;34m:\u001b[0m\u001b[0;34m]\u001b[0m\u001b[0;34m\u001b[0m\u001b[0m\n\u001b[0m\u001b[1;32m    212\u001b[0m         \u001b[0mXerr\u001b[0m \u001b[0;34m=\u001b[0m \u001b[0mXerr\u001b[0m\u001b[0;34m[\u001b[0m\u001b[0;34m:\u001b[0m\u001b[0;34m,\u001b[0m \u001b[0mnp\u001b[0m\u001b[0;34m.\u001b[0m\u001b[0mnewaxis\u001b[0m\u001b[0;34m,\u001b[0m \u001b[0;34m:\u001b[0m\u001b[0;34m,\u001b[0m \u001b[0;34m:\u001b[0m\u001b[0;34m]\u001b[0m\u001b[0;34m\u001b[0m\u001b[0m\n\u001b[1;32m    213\u001b[0m         \u001b[0mT\u001b[0m \u001b[0;34m=\u001b[0m \u001b[0mXerr\u001b[0m \u001b[0;34m+\u001b[0m \u001b[0mself\u001b[0m\u001b[0;34m.\u001b[0m\u001b[0mV\u001b[0m\u001b[0;34m\u001b[0m\u001b[0m\n",
      "\u001b[0;31mTypeError\u001b[0m: 'float' object is not subscriptable"
     ]
    }
   ],
   "source": [
    "\n",
    "tryProp = xdgmm.score_samples(1.5, 0.03)"
   ]
  },
  {
   "cell_type": "code",
   "execution_count": null,
   "metadata": {
    "collapsed": true
   },
   "outputs": [],
   "source": []
  }
 ],
 "metadata": {
  "kernelspec": {
   "display_name": "Python 3",
   "language": "python",
   "name": "python3"
  },
  "language_info": {
   "codemirror_mode": {
    "name": "ipython",
    "version": 3
   },
   "file_extension": ".py",
   "mimetype": "text/x-python",
   "name": "python",
   "nbconvert_exporter": "python",
   "pygments_lexer": "ipython3",
   "version": "3.5.2"
  }
 },
 "nbformat": 4,
 "nbformat_minor": 2
}
