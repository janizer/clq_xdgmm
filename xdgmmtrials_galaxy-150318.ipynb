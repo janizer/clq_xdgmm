{
 "cells": [
  {
   "cell_type": "code",
   "execution_count": 39,
   "metadata": {},
   "outputs": [],
   "source": [
    "%matplotlib inline"
   ]
  },
  {
   "cell_type": "code",
   "execution_count": null,
   "metadata": {},
   "outputs": [],
   "source": []
  },
  {
   "cell_type": "code",
   "execution_count": null,
   "metadata": {},
   "outputs": [],
   "source": []
  },
  {
   "cell_type": "code",
   "execution_count": null,
   "metadata": {
    "scrolled": false
   },
   "outputs": [
    {
     "name": "stdout",
     "output_type": "stream",
     "text": [
      "(47524, 1)\n",
      "(47524, 1, 1)\n",
      "N = 1 , BIC = 280772.929868\n",
      "N = 2 , BIC = 213269.478602\n"
     ]
    }
   ],
   "source": [
    "import sklearn\n",
    "import nose\n",
    "import astroML_addons\n",
    "import astroML\n",
    "import scipy\n",
    "import pandas\n",
    "import xdgmm\n",
    "from astropy.io import fits\n",
    "import csv\n",
    "import os\n",
    "from shutil import copyfile\n",
    "import numpy as np\n",
    "import matplotlib.pyplot as plt\n",
    "\n",
    "#from demo_plots import *\n",
    "\n",
    "import requests\n",
    "import ast\n",
    "\n",
    "import warnings\n",
    "warnings.filterwarnings('ignore')\n",
    "\n",
    "def fetchFirstVals():\n",
    "    \n",
    "    deltaW = []\n",
    "    sigW = []\n",
    "    w1 = []\n",
    "    w2 = []\n",
    "    w1s = []\n",
    "    w2s = []\n",
    "    mjd = []\n",
    "    \n",
    "\n",
    "    directorystr = './galaxy_csvfiles-150318/'\n",
    "    directory = os.fsencode(directorystr)\n",
    "    filelist = os.listdir(directory)\n",
    "    #print(len(filelist))\n",
    "    readdata = np.zeros((22,len(filelist))) #one big list to rule them all\n",
    "    fileCount = 0 #to keep our place in each list as we go through the files\n",
    "    for file in filelist:\n",
    "        filestr = os.fsdecode(file)\n",
    "        if(filestr.endswith(\".csv\")):\n",
    "            readfile = open('./galaxy_csvfiles-150318/'+filestr, 'r')\n",
    "            reader = csv.reader(readfile)\n",
    "            typeIndex = 0 #to iterate through the w1, w2, etc list\n",
    "            for row in enumerate(reader):\n",
    "                #print(row[1][1])\n",
    "                try:\n",
    "                    readdata[typeIndex][fileCount] = row[1][1]\n",
    "                except ValueError:\n",
    "                    continue\n",
    "                except IndexError:\n",
    "                    continue\n",
    "                #print(readdata[typeIndex])\n",
    "                typeIndex = typeIndex + 1\n",
    "            fileCount = fileCount + 1\n",
    "                    \n",
    "    w1 = [float(x) for x in readdata[7]]\n",
    "    w2 = [float(x) for x in readdata[9]]\n",
    "    w1s = [float(x) for x in readdata[11]]\n",
    "    w2s = [float(x) for x in readdata[13]]\n",
    "    \n",
    "    deltaW = [x - y for x,y in zip(w1,w2)]\n",
    "    sigW = [np.sqrt(sx**2 + sy**2) for sx,sy in zip(w1s, w2s)]\n",
    "    \n",
    "    return deltaW, sigW, len(filelist)\n",
    "\n",
    "result = fetchFirstVals()\n",
    "deltaW = result[0]\n",
    "sigW = result[1]\n",
    "npoints = result[2]\n",
    "\n",
    "xdgmm = xdgmm.XDGMM()\n",
    "\n",
    "param_range = np.array([1, 2, 3, 4, 5, 6, 7, 8, 9, 10])\n",
    "deltaW = np.array(deltaW)\n",
    "\n",
    "deltaW = deltaW.reshape(deltaW.shape[0], 1)\n",
    "print(deltaW.shape)\n",
    "sigW = np.array(sigW)\n",
    "\n",
    "sigW = sigW.reshape(sigW.shape[0], 1,1)\n",
    "print(sigW.shape)\n",
    "\n",
    "bic, optimal_n_comp, lowest_bic = xdgmm.bic_test(deltaW, sigW, param_range)\n",
    "\n",
    "print('yes')\n"
   ]
  },
  {
   "cell_type": "code",
   "execution_count": 41,
   "metadata": {},
   "outputs": [
    {
     "name": "stdout",
     "output_type": "stream",
     "text": [
      "done\n"
     ]
    }
   ],
   "source": [
    "xdgmm.n_components = 5\n",
    "xdgmm = xdgmm.fit(deltaW, sigW)\n",
    "print('done')\n",
    "\n",
    "xdgmm.save_model('notNullTrialset.fit')"
   ]
  },
  {
   "cell_type": "code",
   "execution_count": 81,
   "metadata": {},
   "outputs": [
    {
     "data": {
      "text/plain": [
       "<matplotlib.text.Text at 0x117b51c88>"
      ]
     },
     "execution_count": 81,
     "metadata": {},
     "output_type": "execute_result"
    },
    {
     "data": {
      "image/png": "[encoded data removed]",
      "text/plain": [
       "<matplotlib.figure.Figure at 0x116e2ce80>"
      ]
     },
     "metadata": {},
     "output_type": "display_data"
    },
    {
     "data": {
      "image/png": "[encoded data removed]",
      "text/plain": [
       "<matplotlib.figure.Figure at 0x11788ff60>"
      ]
     },
     "metadata": {},
     "output_type": "display_data"
    },
    {
     "data": {
      "image/png": "[encoded data removed]",
      "text/plain": [
       "<matplotlib.figure.Figure at 0x117b79208>"
      ]
     },
     "metadata": {},
     "output_type": "display_data"
    }
   ],
   "source": [
    "def plot_sample(x_true, y_true, x, y, sample, xdgmm):\n",
    "    setup_text_plots(fontsize=16, usetex=True)\n",
    "    plt.clf()\n",
    "    fig = plt.figure(figsize=(12, 9))\n",
    "    fig.subplots_adjust(left=0.1, right=0.95,\n",
    "                        bottom=0.1, top=0.95,\n",
    "                        wspace=0.02, hspace=0.02)\n",
    "\n",
    "    ax1 = fig.add_subplot(221)\n",
    "    ax1.scatter(x_true, y_true, s=4, lw=0, c='k')\n",
    "\n",
    "    ax2 = fig.add_subplot(222)\n",
    "\n",
    "    ax2.scatter(x, y, s=4, lw=0, c='k')\n",
    "\n",
    "    ax3 = fig.add_subplot(223)\n",
    "    ax3.scatter(sample[:, 0], sample[:, 1], s=4, lw=0, c='k')\n",
    "\n",
    "    ax4 = fig.add_subplot(224)\n",
    "    for i in range(xdgmm.n_components):\n",
    "        draw_ellipse(xdgmm.mu[i], xdgmm.V[i], scales=[2], ax=ax4,\n",
    "                     ec='k', fc='gray', alpha=0.2)\n",
    "\n",
    "    titles = [\"True Distribution\", \"Noisy Distribution\",\n",
    "              \"Extreme Deconvolution\\n  resampling\",\n",
    "            \"Extreme Deconvolution\\n  cluster locations\"]\n",
    "\n",
    "    ax = [ax1, ax2, ax3, ax4]\n",
    "\n",
    "    for i in range(4):\n",
    "        ax[i].set_xlim(-1, 13)\n",
    "        ax[i].set_ylim(-6, 16)\n",
    "\n",
    "        ax[i].xaxis.set_major_locator(plt.MultipleLocator(4))\n",
    "        ax[i].yaxis.set_major_locator(plt.MultipleLocator(5))\n",
    "\n",
    "        ax[i].text(0.05, 0.95, titles[i],\n",
    "                   ha='left', va='top', transform=ax[i].transAxes)\n",
    "\n",
    "        if i in (0, 1):\n",
    "            ax[i].xaxis.set_major_formatter(plt.NullFormatter())\n",
    "        else:\n",
    "            ax[i].set_xlabel('$x$', fontsize = 18)\n",
    "\n",
    "        if i in (1, 3):\n",
    "            ax[i].yaxis.set_major_formatter(plt.NullFormatter())\n",
    "        else:\n",
    "            ax[i].set_ylabel('$y$', fontsize = 18)\n",
    "\n",
    "    plt.show()\n",
    "    \n",
    "def makeGaussian(x, mu, sig):\n",
    "    #return (1.0/(alpha*2.0*np.sqrt(np.pi)))*np.exp((-0.5*(x-mu)/alpha)**2)\n",
    "    return (np.exp(-np.power(x - mu, 2.) / (2 * np.power(sig, 2.))))/(2.0*np.pi*sig)\n",
    "#xdgmm.read_model('notNullTrialset.fit')\n",
    "\n",
    "#xdgmm2= xdgmm.XDGMM(filename='notNullTrialset.fit')\n",
    "\n",
    "\n",
    "\n",
    "sample = xdgmm.sample(npoints)\n",
    "plt.figure()\n",
    "h1 = plt.hist(sample)\n",
    "plt.title('XDGMM-resampled W1-W2 band magnitude difference')\n",
    "plt.xlabel('Magnitude difference')\n",
    "plt.ylabel('Occurrence')\n",
    "\n",
    "\n",
    "\n",
    "plt.figure()\n",
    "\n",
    "#for mu, alpha in xdgmm.mu, xdgmm.weights:\n",
    "x = np.arange(-0.5, 2.5, 0.01)\n",
    "plt.plot(x, makeGaussian(x, xdgmm.mu[0], xdgmm.weights[0]))\n",
    "plt.plot(x, makeGaussian(x, xdgmm.mu[1], xdgmm.weights[1]))\n",
    "plt.plot(x, makeGaussian(x, xdgmm.mu[2], xdgmm.weights[2]))\n",
    "plt.plot(x, makeGaussian(x, xdgmm.mu[3], xdgmm.weights[3]))\n",
    "plt.plot(x, makeGaussian(x, xdgmm.mu[4], xdgmm.weights[4]))\n",
    "plt.title('Gaussian model components')\n",
    "plt.xlabel('Magnitude difference')\n",
    "plt.ylabel('Weight')\n",
    "\n",
    "plt.figure()\n",
    "plt.hist(deltaW)\n",
    "plt.title('True W1-W2 band magnitude difference')\n",
    "plt.xlabel('Magnitude difference')\n",
    "plt.ylabel('Occurrence')\n"
   ]
  },
  {
   "cell_type": "code",
   "execution_count": 82,
   "metadata": {},
   "outputs": [
    {
     "ename": "TypeError",
     "evalue": "'float' object is not subscriptable",
     "output_type": "error",
     "traceback": [
      "\u001b[0;31m---------------------------------------------------------------------------\u001b[0m",
      "\u001b[0;31mTypeError\u001b[0m                                 Traceback (most recent call last)",
      "\u001b[0;32m<ipython-input-82-2d42125c5ecc>\u001b[0m in \u001b[0;36m<module>\u001b[0;34m()\u001b[0m\n\u001b[0;32m----> 1\u001b[0;31m \u001b[0mtryProp\u001b[0m \u001b[0;34m=\u001b[0m \u001b[0mxdgmm\u001b[0m\u001b[0;34m.\u001b[0m\u001b[0mscore_samples\u001b[0m\u001b[0;34m(\u001b[0m\u001b[0;36m1.5\u001b[0m\u001b[0;34m,\u001b[0m \u001b[0;36m0.03\u001b[0m\u001b[0;34m)\u001b[0m\u001b[0;34m\u001b[0m\u001b[0m\n\u001b[0m",
      "\u001b[0;32m/Users/maclean/Documents/CLQ research project/code/xdgmm.py\u001b[0m in \u001b[0;36mscore_samples\u001b[0;34m(self, X, Xerr)\u001b[0m\n\u001b[1;32m    209\u001b[0m         \u001b[0mtmp_GMM\u001b[0m\u001b[0;34m.\u001b[0m\u001b[0mmeans_\u001b[0m \u001b[0;34m=\u001b[0m \u001b[0mself\u001b[0m\u001b[0;34m.\u001b[0m\u001b[0mmu\u001b[0m\u001b[0;34m\u001b[0m\u001b[0m\n\u001b[1;32m    210\u001b[0m \u001b[0;34m\u001b[0m\u001b[0m\n\u001b[0;32m--> 211\u001b[0;31m         \u001b[0mX\u001b[0m \u001b[0;34m=\u001b[0m \u001b[0mX\u001b[0m\u001b[0;34m[\u001b[0m\u001b[0;34m:\u001b[0m\u001b[0;34m,\u001b[0m \u001b[0mnp\u001b[0m\u001b[0;34m.\u001b[0m\u001b[0mnewaxis\u001b[0m\u001b[0;34m,\u001b[0m \u001b[0;34m:\u001b[0m\u001b[0;34m]\u001b[0m\u001b[0;34m\u001b[0m\u001b[0m\n\u001b[0m\u001b[1;32m    212\u001b[0m         \u001b[0mXerr\u001b[0m \u001b[0;34m=\u001b[0m \u001b[0mXerr\u001b[0m\u001b[0;34m[\u001b[0m\u001b[0;34m:\u001b[0m\u001b[0;34m,\u001b[0m \u001b[0mnp\u001b[0m\u001b[0;34m.\u001b[0m\u001b[0mnewaxis\u001b[0m\u001b[0;34m,\u001b[0m \u001b[0;34m:\u001b[0m\u001b[0;34m,\u001b[0m \u001b[0;34m:\u001b[0m\u001b[0;34m]\u001b[0m\u001b[0;34m\u001b[0m\u001b[0m\n\u001b[1;32m    213\u001b[0m         \u001b[0mT\u001b[0m \u001b[0;34m=\u001b[0m \u001b[0mXerr\u001b[0m \u001b[0;34m+\u001b[0m \u001b[0mself\u001b[0m\u001b[0;34m.\u001b[0m\u001b[0mV\u001b[0m\u001b[0;34m\u001b[0m\u001b[0m\n",
      "\u001b[0;31mTypeError\u001b[0m: 'float' object is not subscriptable"
     ]
    }
   ],
   "source": [
    "\n",
    "tryProp = xdgmm.score_samples(1.5, 0.03)"
   ]
  },
  {
   "cell_type": "code",
   "execution_count": null,
   "metadata": {
    "collapsed": true
   },
   "outputs": [],
   "source": []
  }
 ],
 "metadata": {
  "kernelspec": {
   "display_name": "Python 3",
   "language": "python",
   "name": "python3"
  },
  "language_info": {
   "codemirror_mode": {
    "name": "ipython",
    "version": 3
   },
   "file_extension": ".py",
   "mimetype": "text/x-python",
   "name": "python",
   "nbconvert_exporter": "python",
   "pygments_lexer": "ipython3",
   "version": "3.5.3"
  }
 },
 "nbformat": 4,
 "nbformat_minor": 2
}
