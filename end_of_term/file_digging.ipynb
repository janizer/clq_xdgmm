{
 "cells": [
  {
   "cell_type": "code",
   "execution_count": null,
   "metadata": {
    "collapsed": true
   },
   "outputs": [],
   "source": [
    "'''\n",
    "Analysis file. Methods do various things like\n",
    "'''"
   ]
  },
  {
   "cell_type": "code",
   "execution_count": 2,
   "metadata": {
    "collapsed": false,
    "scrolled": false
   },
   "outputs": [],
   "source": [
    "'''\n",
    "method name: readFileToArray\n",
    "args:\n",
    "- filestr: a string of the file name and location\n",
    "returns:\n",
    "- radec: array of right ascension (ra) and declination (dec) positioning info for each object in the file. Useful as objects are saved with their ra-dec as their file names.\n",
    "- mjd: the MJD date which was associated with each object in the file\n",
    "'''\n",
    "\n",
    "%matplotlib inline\n",
    "\n",
    "def readFileToArray(filestr):\n",
    "    with open(filestr) as f:\n",
    "        content = f.readlines()\n",
    "    content = [x.strip() for x in content]\n",
    "    radec = [x.split(',')[0] for x in content]\n",
    "    mjd = [x.split(',')[1] for x in content]\n",
    "    return radec, mjd\n",
    "\n"
   ]
  },
  {
   "cell_type": "code",
   "execution_count": 3,
   "metadata": {
    "collapsed": false,
    "scrolled": false
   },
   "outputs": [],
   "source": [
    "import os\n",
    "import csv\n",
    "\n",
    "def getRowsFromFile(directorystr, filename):\n",
    "    directory = os.fsencode(directorystr)\n",
    "    filelist = os.listdir(directory)\n",
    "    readdata = []\n",
    "    for file in filelist:\n",
    "        filestr = os.fsdecode(file)\n",
    "        if(filestr == filename): #this is the file we want\n",
    "            readfile = open(directorystr+filestr, 'r')\n",
    "            lines = csv.reader(readfile)\n",
    "            rowCount = 0\n",
    "            for row in enumerate(lines):\n",
    "                if rowCount >= 5: #mjd\n",
    "                    readdata.append(row[1])\n",
    "                rowCount = rowCount + 1\n",
    "    return(readdata)\n",
    "\n",
    "def getRowsFromFileALL(directorystr):\n",
    "    directory = os.fsencode(directorystr)\n",
    "    filelist = os.listdir(directory)\n",
    "    readdata = []\n",
    "    for file in filelist:\n",
    "        filestr = os.fsdecode(file)\n",
    "        #if(filestr == filename): #this is the file we want\n",
    "        readfile = open(directorystr+filestr, 'r')\n",
    "        lines = csv.reader(readfile)\n",
    "        rowCount = 0\n",
    "        for row in enumerate(lines):\n",
    "            if rowCount >= 5: #mjd\n",
    "                readdata.append(row[1])\n",
    "            rowCount = rowCount + 1\n",
    "    return(readdata)\n",
    "                    \n",
    "#result = getRowsFromFile(\"./csvfiles/quasar_trialset/\", \"19.918756_0.84493633.csv\")                \n",
    "#mjd = result[0]\n",
    "#w1 = result[1]\n",
    "#w1s = result[2]\n",
    "#w2 = result[3]\n",
    "#w2s = result[4]"
   ]
  },
  {
   "cell_type": "code",
   "execution_count": 31,
   "metadata": {
    "collapsed": false,
    "scrolled": true
   },
   "outputs": [
    {
     "name": "stdout",
     "output_type": "stream",
     "text": [
      "Length of initial candidate list: \n",
      "1369\n",
      "Length of candidate list after filtering :\n",
      "401\n",
      "1369\n"
     ]
    }
   ],
   "source": [
    "'''\n",
    "-find flagged objects by name\n",
    "-retrieve deltaW values adjacent to flag event\n",
    "-records objects with continued candidacy as <radec>,<mjdflag>,<firstFlag>,<lastFlag>\n",
    "--where first and last flag indicate that the anomaly was at the ends of the observation period\n",
    "'''\n",
    "import numpy as np\n",
    "from operator import itemgetter\n",
    "\n",
    "def reorderArray(arrayX, arrayY):\n",
    "    zipped = np.column_stack((arrayX, arrayY))\n",
    "    sortedarray = sorted(zipped, key=itemgetter(0), reverse=False)\n",
    "    separate = [list(t) for t in zip(*sortedarray)]\n",
    "    return separate\n",
    "\n",
    "flaglist = readFileToArray(\"quasarflags_3sigma.txt\")\n",
    "radecf = flaglist[0]\n",
    "mjdf = flaglist[1]\n",
    "print(\"Length of initial candidate list: \")\n",
    "print(len(radecf))\n",
    "\n",
    "STD = 0.256+0.315 #std w1 and std w2 for group (quasars)\n",
    "\n",
    "notable = []\n",
    "\n",
    "flagcount = 0\n",
    "for i in range(len(radecf)): #for each flagged file, (i)\n",
    "    result = getRowsFromFile(\"./csvfiles/quasar_trialset/\", radecf[i])\n",
    "\n",
    "    #read each row of the flagged file into an array\n",
    "    mjd = []\n",
    "    w1 = []\n",
    "    w1s = []\n",
    "    w2 = []\n",
    "    w2s = []\n",
    "    nullFiltered = np.zeros((5, len(result[0])+1))\n",
    "    mjd = [float(x) for x in result[0]]   \n",
    "    for x in result[2]:\n",
    "        if x != 'null':\n",
    "            w1.append(float(x))\n",
    "        else:\n",
    "            w1.append(99)\n",
    "    for x in result[4]:\n",
    "        if x != 'null':\n",
    "            w1s.append(float(x))\n",
    "        else:\n",
    "            w1s.append(99)\n",
    "    for x in result[6]:\n",
    "        if x != 'null':\n",
    "            w2.append(float(x))\n",
    "        else:\n",
    "            w2.append(99)\n",
    "    for x in result[8]:\n",
    "        if x != 'null':\n",
    "            w2s.append(float(x))\n",
    "        else:\n",
    "            w2s.append(99)\n",
    "            \n",
    "    deltaW = [x - y for x,y in zip(w1, w2)] #calculate our deltaW\n",
    "\n",
    "    reordered = reorderArray(mjd, deltaW) #put the list in chrono order\n",
    "    mjd = reordered[0] #put it back into useful bits\n",
    "    deltaW = reordered[1]\n",
    "    for k, m in enumerate(mjd): #find column with date from mjdf in mjd of file \n",
    "        if (float(m) - float(mjdf[i])) == 0:\n",
    "            firstFlag = 0\n",
    "            lastFlag = 0\n",
    "            try:\n",
    "                prevmjd = mjd[k-1]\n",
    "            except IndexError:\n",
    "                firstFlag = 1\n",
    "                flagcount  = flagcount + 1\n",
    "                continue\n",
    "            prevarr = [] #arrays to hold the adjacent values\n",
    "            postarr = []\n",
    "            ndx = k\n",
    "            \n",
    "            #collect the values in two arrays:\n",
    "            while(prevmjd > (mjd[k] - 1095)) and ndx >= 0:\n",
    "                ndx = ndx - 1\n",
    "                try:\n",
    "                    prevarr.append(deltaW[ndx])\n",
    "                    prevmjd = mjd[ndx]\n",
    "                except IndexError:\n",
    "                    prevarr.append(deltaW[ndx+1])\n",
    "                    firstFlag = 1\n",
    "                    flagcount  = flagcount + 1\n",
    "                    break\n",
    "            ndx = k\n",
    "            try:\n",
    "                postmjd = mjd[k+1]\n",
    "            except IndexError:\n",
    "                lastFlag = 1\n",
    "                flagcount  = flagcount + 1\n",
    "                continue\n",
    "            while(postmjd < (mjd[k] + 1095)):\n",
    "                ndx = ndx + 1\n",
    "                try:\n",
    "                    postarr.append(deltaW[ndx])\n",
    "                    postmjd = mjd[ndx]\n",
    "                except IndexError:\n",
    "                    postarr.append(deltaW[ndx-1])\n",
    "                    lastFlag = 1\n",
    "                    flagcount  = flagcount + 1\n",
    "                    break\n",
    "                    \n",
    "            #now, find the ranges over the prev/post months\n",
    "            try:\n",
    "                postmax = max(postarr)\n",
    "                postmin = min(postarr)\n",
    "            except ValueError: # the object must at the end of the list\n",
    "                eventPair = (radecf[i], mjdf[k])\n",
    "                notable.append(eventPair) #just add this object, since data is cut off\n",
    "                continue #move on to next\n",
    "            try:\n",
    "                prevmax = max(prevarr)\n",
    "                prevmin = min(prevarr)\n",
    "            except ValueError: # the object is at the beginning of the list\n",
    "                eventPair = (radecf[i], mjdf[k])\n",
    "                notable.append(eventPair)\n",
    "                continue\n",
    "                \n",
    "            if (postmax-postmin) < 2*STD and (prevmax-prevmin) < 2*STD: # or, your criteria here\n",
    "                eventPair = (radecf[i], mjdf[k])\n",
    "                notable.append(eventPair)\n",
    "            \n",
    "\n",
    "print(\"Length of candidate list after filtering:\")\n",
    "print(len(notable))\n",
    "    "
   ]
  },
  {
   "cell_type": "code",
   "execution_count": 35,
   "metadata": {
    "collapsed": false
   },
   "outputs": [
    {
     "name": "stdout",
     "output_type": "stream",
     "text": [
      "('123.865169901_23.8695685687.csv', '55486.6106585')\n",
      "123.865169901_23.8695685687.csv\n",
      "Done\n"
     ]
    }
   ],
   "source": [
    "'''\n",
    "-save our 'notable' list to file\n",
    "'''\n",
    "print(notable[0])\n",
    "print(notable[0][0])\n",
    "\n",
    "f = open('quasarflags_3sigma_3years.txt', 'w') # your filename here\n",
    "for i in range(len(notable)):\n",
    "    f.write(notable[i][0]+','+str(notable[i][1])+'\\n')\n",
    "f.close()\n",
    "print(\"Done\")"
   ]
  },
  {
   "cell_type": "code",
   "execution_count": null,
   "metadata": {
    "collapsed": true
   },
   "outputs": [],
   "source": [
    "'''\n",
    "-check these values against both models\n",
    "-to what end though\n",
    "'''\n",
    "\n",
    "xdgmmG = xdgmm.XDGMM(filename='galaxyModel2018-03-28.fit')\n",
    "xdgmmQ = xdgmm.XDGMM(filename='quasarModel2018-03-29.fit')\n",
    "\n",
    "\n"
   ]
  },
  {
   "cell_type": "code",
   "execution_count": 40,
   "metadata": {
    "collapsed": false,
    "scrolled": true
   },
   "outputs": [
    {
     "ename": "KeyboardInterrupt",
     "evalue": "",
     "output_type": "error",
     "traceback": [
      "\u001b[0;31m---------------------------------------------------------------------------\u001b[0m",
      "\u001b[0;31mKeyboardInterrupt\u001b[0m                         Traceback (most recent call last)",
      "\u001b[0;32m<ipython-input-40-0b724f7a4783>\u001b[0m in \u001b[0;36m<module>\u001b[0;34m()\u001b[0m\n\u001b[1;32m     60\u001b[0m     \u001b[0;31m#print(fileCount)\u001b[0m\u001b[0;34m\u001b[0m\u001b[0;34m\u001b[0m\u001b[0m\n\u001b[1;32m     61\u001b[0m     \u001b[0;32mtry\u001b[0m\u001b[0;34m:\u001b[0m\u001b[0;34m\u001b[0m\u001b[0m\n\u001b[0;32m---> 62\u001b[0;31m         \u001b[0mresult\u001b[0m \u001b[0;34m=\u001b[0m \u001b[0mdoRowAverage\u001b[0m\u001b[0;34m(\u001b[0m\u001b[0mdirectorystr\u001b[0m\u001b[0;34m,\u001b[0m \u001b[0mfilestr\u001b[0m\u001b[0;34m)\u001b[0m\u001b[0;34m\u001b[0m\u001b[0m\n\u001b[0m\u001b[1;32m     63\u001b[0m         \u001b[0;32mif\u001b[0m \u001b[0mresult\u001b[0m \u001b[0;34m==\u001b[0m \u001b[0;36m0\u001b[0m\u001b[0;34m:\u001b[0m\u001b[0;34m\u001b[0m\u001b[0m\n\u001b[1;32m     64\u001b[0m             \u001b[0;32mcontinue\u001b[0m \u001b[0;31m#blank file\u001b[0m\u001b[0;34m\u001b[0m\u001b[0m\n",
      "\u001b[0;32m<ipython-input-40-0b724f7a4783>\u001b[0m in \u001b[0;36mdoRowAverage\u001b[0;34m(directorystr, filename)\u001b[0m\n\u001b[1;32m      7\u001b[0m \u001b[0;32mdef\u001b[0m \u001b[0mdoRowAverage\u001b[0m\u001b[0;34m(\u001b[0m\u001b[0mdirectorystr\u001b[0m\u001b[0;34m,\u001b[0m \u001b[0mfilename\u001b[0m\u001b[0;34m)\u001b[0m\u001b[0;34m:\u001b[0m\u001b[0;34m\u001b[0m\u001b[0m\n\u001b[1;32m      8\u001b[0m     \u001b[0;31m#result = getRowsFromFile(\"./csvfiles/quasar_trialset/\", \"19.918756_0.84493633.csv\")\u001b[0m\u001b[0;34m\u001b[0m\u001b[0;34m\u001b[0m\u001b[0m\n\u001b[0;32m----> 9\u001b[0;31m     \u001b[0mresult\u001b[0m \u001b[0;34m=\u001b[0m \u001b[0mgetRowsFromFile\u001b[0m\u001b[0;34m(\u001b[0m\u001b[0mdirectorystr\u001b[0m\u001b[0;34m,\u001b[0m \u001b[0mfilename\u001b[0m\u001b[0;34m)\u001b[0m\u001b[0;34m\u001b[0m\u001b[0m\n\u001b[0m\u001b[1;32m     10\u001b[0m     \u001b[0;31m#mjd = result[0]\u001b[0m\u001b[0;34m\u001b[0m\u001b[0;34m\u001b[0m\u001b[0m\n\u001b[1;32m     11\u001b[0m \u001b[0;31m#     w1 = []\u001b[0m\u001b[0;34m\u001b[0m\u001b[0;34m\u001b[0m\u001b[0m\n",
      "\u001b[0;32m<ipython-input-3-333a2bc3f27a>\u001b[0m in \u001b[0;36mgetRowsFromFile\u001b[0;34m(directorystr, filename)\u001b[0m\n\u001b[1;32m      7\u001b[0m     \u001b[0mreaddata\u001b[0m \u001b[0;34m=\u001b[0m \u001b[0;34m[\u001b[0m\u001b[0;34m]\u001b[0m\u001b[0;34m\u001b[0m\u001b[0m\n\u001b[1;32m      8\u001b[0m     \u001b[0;32mfor\u001b[0m \u001b[0mfile\u001b[0m \u001b[0;32min\u001b[0m \u001b[0mfilelist\u001b[0m\u001b[0;34m:\u001b[0m\u001b[0;34m\u001b[0m\u001b[0m\n\u001b[0;32m----> 9\u001b[0;31m         \u001b[0mfilestr\u001b[0m \u001b[0;34m=\u001b[0m \u001b[0mos\u001b[0m\u001b[0;34m.\u001b[0m\u001b[0mfsdecode\u001b[0m\u001b[0;34m(\u001b[0m\u001b[0mfile\u001b[0m\u001b[0;34m)\u001b[0m\u001b[0;34m\u001b[0m\u001b[0m\n\u001b[0m\u001b[1;32m     10\u001b[0m         \u001b[0;32mif\u001b[0m\u001b[0;34m(\u001b[0m\u001b[0mfilestr\u001b[0m \u001b[0;34m==\u001b[0m \u001b[0mfilename\u001b[0m\u001b[0;34m)\u001b[0m\u001b[0;34m:\u001b[0m \u001b[0;31m#this is the file we want\u001b[0m\u001b[0;34m\u001b[0m\u001b[0m\n\u001b[1;32m     11\u001b[0m             \u001b[0mreadfile\u001b[0m \u001b[0;34m=\u001b[0m \u001b[0mopen\u001b[0m\u001b[0;34m(\u001b[0m\u001b[0mdirectorystr\u001b[0m\u001b[0;34m+\u001b[0m\u001b[0mfilestr\u001b[0m\u001b[0;34m,\u001b[0m \u001b[0;34m'r'\u001b[0m\u001b[0;34m)\u001b[0m\u001b[0;34m\u001b[0m\u001b[0m\n",
      "\u001b[0;32m//anaconda/lib/python3.5/os.py\u001b[0m in \u001b[0;36mfsdecode\u001b[0;34m(filename)\u001b[0m\n\u001b[1;32m    868\u001b[0m         \u001b[0mthe\u001b[0m \u001b[0mfile\u001b[0m \u001b[0msystem\u001b[0m \u001b[0mencoding\u001b[0m \u001b[0;32mis\u001b[0m \u001b[0;34m'mbcs'\u001b[0m \u001b[0;34m(\u001b[0m\u001b[0mwhich\u001b[0m \u001b[0;32mis\u001b[0m \u001b[0mthe\u001b[0m \u001b[0mdefault\u001b[0m \u001b[0mencoding\u001b[0m\u001b[0;34m)\u001b[0m\u001b[0;34m.\u001b[0m\u001b[0;34m\u001b[0m\u001b[0m\n\u001b[1;32m    869\u001b[0m         \"\"\"\n\u001b[0;32m--> 870\u001b[0;31m         \u001b[0;32mif\u001b[0m \u001b[0misinstance\u001b[0m\u001b[0;34m(\u001b[0m\u001b[0mfilename\u001b[0m\u001b[0;34m,\u001b[0m \u001b[0mstr\u001b[0m\u001b[0;34m)\u001b[0m\u001b[0;34m:\u001b[0m\u001b[0;34m\u001b[0m\u001b[0m\n\u001b[0m\u001b[1;32m    871\u001b[0m             \u001b[0;32mreturn\u001b[0m \u001b[0mfilename\u001b[0m\u001b[0;34m\u001b[0m\u001b[0m\n\u001b[1;32m    872\u001b[0m         \u001b[0;32melif\u001b[0m \u001b[0misinstance\u001b[0m\u001b[0;34m(\u001b[0m\u001b[0mfilename\u001b[0m\u001b[0;34m,\u001b[0m \u001b[0mbytes\u001b[0m\u001b[0;34m)\u001b[0m\u001b[0;34m:\u001b[0m\u001b[0;34m\u001b[0m\u001b[0m\n",
      "\u001b[0;31mKeyboardInterrupt\u001b[0m: "
     ]
    }
   ],
   "source": [
    "'''\n",
    "-computes means and stds of w1, w2 etc\n",
    "'''\n",
    "\n",
    "import numpy as np\n",
    "\n",
    "def doRowAverage(directorystr, filename):\n",
    "    result = getRowsFromFile(directorystr, filename)\n",
    "    w1 = np.linspace(0, len(result[2]))\n",
    "    w1s = np.linspace(0, len(result[2]))\n",
    "    w2 = np.linspace(0, len(result[2]))\n",
    "    w2s = np.linspace(0, len(result[2]))\n",
    "    j = 0\n",
    "    for i in range(len(result[2])):\n",
    "        try:\n",
    "            w1[j] = (float(result[2][i]))\n",
    "            w1s[j] = (float(result[4][i]))\n",
    "            w2[j] = (float(result[6][i]))\n",
    "            w2s[j] = (float(result[8][i]))\n",
    "            \n",
    "        except ValueError:\n",
    "            continue\n",
    "        j = j + 1\n",
    "    w1 = w1[:j]\n",
    "    w1s = w1s[:j]\n",
    "    w2 = w2[:j]\n",
    "    w2s = w2s[:j]\n",
    "    if j == 0:\n",
    "        return 0\n",
    "    deltaW = [x - y for x,y in zip(w1,w2)]\n",
    "    mdeltaW = np.mean(deltaW)\n",
    "    mw1 = np.mean(w1)\n",
    "    mw1s = np.mean(w1s)\n",
    "    mw2 = np.mean(w2)\n",
    "    mw2s = np.mean(w2s)\n",
    "    return mw1, mw1s, mw2, mw2s, mdeltaW\n",
    "\n",
    "mw1 = []\n",
    "mw2 = []\n",
    "mw1s = []\n",
    "mw2s = []\n",
    "mdeltaW = []\n",
    "\n",
    "directorystr = \"./csvfiles/galaxies/\"\n",
    "directory = os.fsencode(directorystr)\n",
    "filelist = os.listdir(directory)\n",
    "readdata = []\n",
    "fileCount = 0\n",
    "for file in filelist:\n",
    "    filestr = os.fsdecode(file)\n",
    "    fileCount = fileCount + 1\n",
    "    try:\n",
    "        result = doRowAverage(directorystr, filestr)\n",
    "        if result == 0:\n",
    "            continue #blank file\n",
    "        else:\n",
    "            mw1.append(result[0])\n",
    "            mw1s.append(result[1])\n",
    "            mw2.append(result[2])\n",
    "            mw2s.append(result[3])\n",
    "            mdeltaW.append(result[4])\n",
    "    except UnicodeDecodeError:\n",
    "        continue\n",
    "    except IndexError:\n",
    "        print(\"IndexError\")\n",
    "        print(filestr)\n",
    "        #print(filecount)\n",
    "        continue\n",
    "    \n",
    "        \n",
    "# print(np.mean(mw1))\n",
    "# print(np.std(mw1))\n",
    "# print(np.mean(mw1s))\n",
    "# print(np.std(mw1s))\n",
    "    \n",
    "# print(np.mean(mdeltaW))\n",
    "# print(np.std(mdeltaW))\n",
    "    "
   ]
  },
  {
   "cell_type": "code",
   "execution_count": 73,
   "metadata": {
    "collapsed": false,
    "scrolled": false
   },
   "outputs": [
    {
     "name": "stdout",
     "output_type": "stream",
     "text": [
      "0.0933147048896\n",
      "0.200067245675\n"
     ]
    }
   ],
   "source": [
    "print(np.mean(mw1s)) #average std on W1\n",
    "print(np.mean(mw2s)) #average std on W2\n",
    "\n",
    "# i.e. the acceptable fluctuation in these values across an object's history"
   ]
  },
  {
   "cell_type": "code",
   "execution_count": 52,
   "metadata": {
    "collapsed": false
   },
   "outputs": [],
   "source": [
    "lightcurveresult = getRowsFromFile(\"./\", \"29.9901518_0.5528789.csv\")\n",
    "\n",
    "# for testing: 29.9901518_0.5528789, an identified clq"
   ]
  },
  {
   "cell_type": "code",
   "execution_count": 53,
   "metadata": {
    "collapsed": false
   },
   "outputs": [
    {
     "name": "stdout",
     "output_type": "stream",
     "text": [
      "[['55210.72858', '55210.79467', '55398.25424', '55398.38641', '55575.92687', '55575.99296', '55211.32414', '55397.39433', '55397.92341', '55397.98963', '55398.05572', '55210.59627', '55576.45583', '55576.45596', '55575.72848', '55575.86078', '55211.0594', '55211.19171', '55397.79111', '55397.85733', '55210.86088', '55576.12526', '55576.19135', '55575.464', '55575.59617', '55210.9271', '55210.99319', '55397.65881', '55397.65893', '55210.7948', '55398.12193', '55398.38654', '55572.95098', '55576.05905', '55576.05918', '55397.5265', '55397.52663', '55210.46384'], ['W1: ', '', '', '', '', '', '', '', '', '', '', '', '', '', '', '', '', '', '', '', '', '', '', '', '', '', '', '', '', '', '', '', '', '', '', '', '', ''], ['15.114', '15.031', '15.029', '15.126', '15.068', '15.053', '15.142', '15.259', '14.863', '15.25', '15.353', '15.078', '15.129', '14.901', '15.278', '14.842', '15.289', '15.035', '15.031', '14.871', '15.27', '15.115', '15.204', '15.041', '14.839', '15.014', '14.954', '14.991', '15.146', '15.096', '15.046', '15.264', '15.061', '15.105', '15.009', '15.298', '14.956', '15.2'], ['W1sigma: ', '', '', '', '', '', '', '', '', '', '', '', '', '', '', '', '', '', '', '', '', '', '', '', '', '', '', '', '', '', '', '', '', '', '', '', '', ''], ['0.109', '0.111', '0.108', '0.129', '0.112', '0.111', '0.124', '0.132', '0.087', '0.124', '0.136', '0.103', '0.13', '0.17', '0.156', '0.093', '0.131', '0.106', '0.107', '0.094', '0.154', '0.117', '0.122', '0.118', '0.096', '0.099', '0.102', '0.097', '0.113', '0.121', '0.105', '0.133', '0.11', '0.116', '0.106', '0.135', '0.095', '0.121'], ['W2: ', '', '', '', '', '', '', '', '', '', '', '', '', '', '', '', '', '', '', '', '', '', '', '', '', '', '', '', '', '', '', '', '', '', '', '', '', ''], ['14.282', '14.875', '14.967', '14.644', '14.288', '14.598', '14.653', '15.29', '14.438', '14.195', '14.816', '14.742', '14.647', '14.407', '14.297', '14.9', '14.424', '14.566', '14.598', '14.582', '14.884', '14.328', '14.515', '14.176', '14.396', '14.509', '14.474', '14.943', '14.535', '14.671', '14.301', '14.467', 'null', '14.239', '14.545', '14.914', '14.537', '14.822'], ['W2sigma: ', '', '', '', '', '', '', '', '', '', '', '', '', '', '', '', '', '', '', '', '', '', '', '', '', '', '', '', '', '', '', '', '', '', '', '', '', ''], ['0.183', '0.297', '0.294', '0.237', '0.231', '0.306', '0.242', '0.45', '0.221', '0.178', '0.254', '0.246', '0.318', '0.265', '0.228', '0.397', '0.196', '0.233', '0.22', '0.218', '0.344', '0.224', '0.263', '0.226', '0.266', '0.196', '0.2', '0.288', '0.225', '0.268', '0.204', '0.208', 'null', '0.217', '0.272', '0.312', '0.232', '0.289'], ['W3: ', '', '', '', '', '', '', '', '', '', '', '', '', '', '', '', '', '', '', '', '', '', '', '', '', '', '', '', '', '', '', '', '', '', '', '', '', ''], ['10.727', '10.382', '10.568', '10.801', 'null', 'null', '10.908', '11.287', '10.932', '10.743', '11.279', '10.87', 'null', 'null', 'null', 'null', '10.675', '11.129', '10.87', '11.323', '11.217', 'null', 'null', 'null', 'null', '11.039', '10.742', '11.123', '10.787', '10.947', '10.55', '10.558', 'null', 'null', 'null', '11.266', '10.744', '10.963'], ['W3sigma: ', '', '', '', '', '', '', '', '', '', '', '', '', '', '', '', '', '', '', '', '', '', '', '', '', '', '', '', '', '', '', '', '', '', '', '', '', ''], ['0.331', 'null', 'null', '0.371', 'null', 'null', 'null', 'null', 'null', 'null', 'null', 'null', 'null', 'null', 'null', 'null', '0.309', '0.447', 'null', '0.53', '0.481', 'null', 'null', 'null', 'null', 'null', 'null', '0.443', '0.389', '0.381', 'null', 'null', 'null', 'null', 'null', '0.507', 'null', '0.396'], ['W4: ', '', '', '', '', '', '', '', '', '', '', '', '', '', '', '', '', '', '', '', '', '', '', '', '', '', '', '', '', '', '', '', '', '', '', '', '', ''], ['7.769', '7.247', 'null', '7.463', 'null', 'null', '7.247', '7.153', '7.865', '7.771', '7.599', '7.674', 'null', 'null', 'null', 'null', '7.353', '7.659', '7.407', '7.195', '6.901', 'null', 'null', 'null', 'null', '7.14', '7.406', '7.537', '7.31', '7.714', '7.046', '7.626', 'null', 'null', 'null', '7.582', '7.405', '7.598'], ['W4sigma: ', '', '', '', '', '', '', '', '', '', '', '', '', '', '', '', '', '', '', '', '', '', '', '', '', '', '', '', '', '', '', '', '', '', '', '', '', ''], ['null', 'null', 'null', '0.52', 'null', 'null', 'null', 'null', 'null', 'null', 'null', 'null', 'null', 'null', 'null', 'null', 'null', 'null', 'null', 'null', 'null', 'null', 'null', 'null', 'null', 'null', 'null', 'null', 'null', '0.501', 'null', '0.494', 'null', 'null', 'null', 'null', 'null', 'null'], ['', '', '', '', '', '', '', '', '', '', '', '', '', '', '', '', '', '', '', '', '', '', '', '', '', '', '', '', '', '', '', '', '', '', '', '', '', ''], ['', '', '', '', '', '', '', '', '', '', '', '', '', '', '', '', '', '', '', '', '', '', '', '', '', '', '', '', '', '', '', '', '', '', '', '', '', ''], ['', '', '', '', '', '', '', '', '', '', '', '', '', '', '', '', '', '', '', '', '', '', '', '', '', '', '', '', '', '', '', '', '', '', '', '', '', ''], ['', '', '', '', '', '', '', '', '', '', '', '', '', '', '', '', '', '', '', '', '', '', '', '', '', '', '', '', '', '', '', '', '', '', '', '', '', ''], ['', '', '', '', '', '', '', '', '', '', '', '', '', '', '', '', '', '', '', '', '', '', '', '', '', '', '', '', '', '', '', '', '', '', '', '', '', ''], ['', '', '', '', '', '', '', '', '', '', '', '', '', '', '', '', '', '', '', '', '', '', '', '', '', '', '', '', '', '', '', '', '', '', '', '', '', ''], ['', '', '', '', '', '', '', '', '', '', '', '', '', '', '', '', '', '', '', '', '', '', '', '', '', '', '', '', '', '', '', '', '', '', '', '', '', ''], ['', '', '', '', '', '', '', '', '', '', '', '', '', '', '', '', '', '', '', '', '', '', '', '', '', '', '', '', '', '', '', '', '', '', '', '', '', ''], ['', '', '', '', '', '', '', '', '', '', '', '', '', '', '', '', '', '', '', '', '', '', '', '', '', '', '', '', '', '', '', '', '', '', '', '', '', ''], ['', '', '', '', '', '', '', '', '', '', '', '', '', '', '', '', '', '', '', '', '', '', '', '', '', '', '', '', '', '', '', '', '', '', '', '', '', ''], ['', '', '', '', '', '', '', '', '', '', '', '', '', '', '', '', '', '', '', '', '', '', '', '', '', '', '', '', '', '', '', '', '', '', '', '', '', ''], ['', '', '', '', '', '', '', '', '', '', '', '', '', '', '', '', '', '', '', '', '', '', '', '', '', '', '', '', '', '', '', '', '', '', '', '', '', ''], ['', '', '', '', '', '', '', '', '', '', '', '', '', '', '', '', '', '', '', '', '', '', '', '', '', '', '', '', '', '', '', '', '', '', '', '', '', ''], ['', '', '', '', '', '', '', '', '', '', '', '', '', '', '', '', '', '', '', '', '', '', '', '', '', '', '', '', '', '', '', '', '', '', '', '', '', ''], ['', '', '', '', '', '', '', '', '', '', '', '', '', '', '', '', '', '', '', '', '', '', '', '', '', '', '', '', '', '', '', '', '', '', '', '', '', ''], ['', '', '', '', '', '', '', '', '', '', '', '', '', '', '', '', '', '', '', '', '', '', '', '', '', '', '', '', '', '', '', '', '', '', '', '', '', ''], ['', '', '', '', '', '', '', '', '', '', '', '', '', '', '', '', '', '', '', '', '', '', '', '', '', '', '', '', '', '', '', '', '', '', '', '', '', ''], ['', '', '', '', '', '', '', '', '', '', '', '', '', '', '', '', '', '', '', '', '', '', '', '', '', '', '', '', '', '', '', '', '', '', '', '', '', ''], ['', '', '', '', '', '', '', '', '', '', '', '', '', '', '', '', '', '', '', '', '', '', '', '', '', '', '', '', '', '', '', '', '', '', '', '', '', ''], ['', '', '', '', '', '', '', '', '', '', '', '', '', '', '', '', '', '', '', '', '', '', '', '', '', '', '', '', '', '', '', '', '', '', '', '', '', ''], ['', '', '', '', '', '', '', '', '', '', '', '', '', '', '', '', '', '', '', '', '', '', '', '', '', '', '', '', '', '', '', '', '', '', '', '', '', ''], ['', '', '', '', '', '', '', '', '', '', '', '', '', '', '', '', '', '', '', '', '', '', '', '', '', '', '', '', '', '', '', '', '', '', '', '', '', ''], ['', '', '', '', '', '', '', '', '', '', '', '', '', '', '', '', '', '', '', '', '', '', '', '', '', '', '', '', '', '', '', '', '', '', '', '', '', ''], ['', '', '', '', '', '', '', '', '', '', '', '', '', '', '', '', '', '', '', '', '', '', '', '', '', '', '', '', '', '', '', '', '', '', '', '', '', ''], ['', '', '', '', '', '', '', '', '', '', '', '', '', '', '', '', '', '', '', '', '', '', '', '', '', '', '', '', '', '', '', '', '', '', '', '', '', ''], ['', '', '', '', '', '', '', '', '', '', '', '', '', '', '', '', '', '', '', '', '', '', '', '', '', '', '', '', '', '', '', '', '', '', '', '', '', ''], ['', '', '', '', '', '', '', '', '', '', '', '', '', '', '', '', '', '', '', '', '', '', '', '', '', '', '', '', '', '', '', '', '', '', '', '', '', ''], ['', '', '', '', '', '', '', '', '', '', '', '', '', '', '', '', '', '', '', '', '', '', '', '', '', '', '', '', '', '', '', '', '', '', '', '', '', ''], ['', '', '', '', '', '', '', '', '', '', '', '', '', '', '', '', '', '', '', '', '', '', '', '', '', '', '', '', '', '', '', '', '', '', '', '', '', ''], ['', '', '', '', '', '', '', '', '', '', '', '', '', '', '', '', '', '', '', '', '', '', '', '', '', '', '', '', '', '', '', '', '', '', '', '', '', ''], ['', '', '', '', '', '', '', '', '', '', '', '', '', '', '', '', '', '', '', '', '', '', '', '', '', '', '', '', '', '', '', '', '', '', '', '', '', ''], ['', '', '', '', '', '', '', '', '', '', '', '', '', '', '', '', '', '', '', '', '', '', '', '', '', '', '', '', '', '', '', '', '', '', '', '', '', ''], ['', '', '', '', '', '', '', '', '', '', '', '', '', '', '', '', '', '', '', '', '', '', '', '', '', '', '', '', '', '', '', '', '', '', '', '', '', ''], ['', '', '', '', '', '', '', '', '', '', '', '', '', '', '', '', '', '', '', '', '', '', '', '', '', '', '', '', '', '', '', '', '', '', '', '', '', ''], ['', '', '', '', '', '', '', '', '', '', '', '', '', '', '', '', '', '', '', '', '', '', '', '', '', '', '', '', '', '', '', '', '', '', '', '', '', ''], ['', '', '', '', '', '', '', '', '', '', '', '', '', '', '', '', '', '', '', '', '', '', '', '', '', '', '', '', '', '', '', '', '', '', '', '', '', ''], ['', '', '', '', '', '', '', '', '', '', '', '', '', '', '', '', '', '', '', '', '', '', '', '', '', '', '', '', '', '', '', '', '', '', '', '', '', ''], ['', '', '', '', '', '', '', '', '', '', '', '', '', '', '', '', '', '', '', '', '', '', '', '', '', '', '', '', '', '', '', '', '', '', '', '', '', ''], ['', '', '', '', '', '', '', '', '', '', '', '', '', '', '', '', '', '', '', '', '', '', '', '', '', '', '', '', '', '', '', '', '', '', '', '', '', ''], ['', '', '', '', '', '', '', '', '', '', '', '', '', '', '', '', '', '', '', '', '', '', '', '', '', '', '', '', '', '', '', '', '', '', '', '', '', ''], ['', '', '', '', '', '', '', '', '', '', '', '', '', '', '', '', '', '', '', '', '', '', '', '', '', '', '', '', '', '', '', '', '', '', '', '', '', ''], ['', '', '', '', '', '', '', '', '', '', '', '', '', '', '', '', '', '', '', '', '', '', '', '', '', '', '', '', '', '', '', '', '', '', '', '', '', '']]\n",
      "[ 14.282  14.875  14.967  14.644  14.288  14.598  14.653  15.29   14.438\n",
      "  14.195  14.816  14.742  14.647  14.407  14.297  14.9    14.424  14.566\n",
      "  14.598  14.582  14.884  14.328  14.515  14.176  14.396  14.509  14.474\n",
      "  14.943  14.535  14.671  14.301  14.467   0.     14.239  14.545  14.914\n",
      "  14.537  14.822]\n"
     ]
    }
   ],
   "source": [
    "import matplotlib.pyplot as plt\n",
    "\n",
    "mjd = [float(x) for x in lightcurveresult[0]]\n",
    "w1 = np.zeros(len(lightcurveresult[2]))\n",
    "w2 = np.zeros(len(lightcurveresult[6]))\n",
    "w1s = np.zeros(len(lightcurveresult[4]))\n",
    "w2s = np.zeros(len(lightcurveresult[8]))\n",
    "i = 0\n",
    "for x in lightcurveresult[2]:\n",
    "    try:\n",
    "        w1[i] = float(x)\n",
    "        i = i + 1\n",
    "    except ValueError:\n",
    "        w1[i] = 0.0\n",
    "        i = i + 1\n",
    "i = 0\n",
    "for x in lightcurveresult[6]:\n",
    "    try:\n",
    "        w2[i] = float(x)\n",
    "        i = i + 1\n",
    "    except ValueError:\n",
    "        w2[i] = 0.0\n",
    "        i = i + 1\n",
    "i = 0\n",
    "for x in lightcurveresult[4]:\n",
    "    try:\n",
    "        w1s[i] = float(x)\n",
    "        i = i + 1\n",
    "    except ValueError:\n",
    "        w1s[i] = 0.0\n",
    "        i = i + 1        \n",
    "i = 0\n",
    "for x in lightcurveresult[8]:\n",
    "    try:\n",
    "        w2s[i] = float(x)\n",
    "        i = i + 1\n",
    "    except ValueError:\n",
    "        w2s[i] = 0.0\n",
    "        i = i + 1\n",
    "deltaW = [x - y for x,y in zip(w1,w2)]\n",
    "sigW = [x + y for x,y in zip(w1s,w2s)]\n"
   ]
  },
  {
   "cell_type": "code",
   "execution_count": 65,
   "metadata": {
    "collapsed": false
   },
   "outputs": [
    {
     "data": {
      "text/plain": [
       "<matplotlib.text.Text at 0x1117d5908>"
      ]
     },
     "execution_count": 65,
     "metadata": {},
     "output_type": "execute_result"
    },
    {
     "data": {
      "image/png": "[encoded data removed]",
      "text/plain": [
       "<matplotlib.figure.Figure at 0x10d215d30>"
      ]
     },
     "metadata": {},
     "output_type": "display_data"
    }
   ],
   "source": [
    "from operator import itemgetter\n",
    "\n",
    "def reorderArray(arrayX, arrayY):\n",
    "    zipped = np.column_stack((arrayX, arrayY))\n",
    "    sortedarray = sorted(zipped, key=itemgetter(0), reverse=False)\n",
    "    separate = [list(t) for t in zip(*sortedarray)]\n",
    "    return separate\n",
    "\n",
    "def addArrayToPlot(baseArr, newArr, arrCount):\n",
    "    #if len(baseArr) > len(newArr):\n",
    "    for i in range(len(baseArr)):\n",
    "        baseArr[i] = (baseArr[i] + newArr[i])/arrCount\n",
    "\n",
    "results = reorderArray(mjd, deltaW)\n",
    "omitzero = [x for x in results[1] if x<10]\n",
    "omitzerox = results[0]\n",
    "mean = np.mean(results[1])\n",
    "stdup = [mean + 0.25646+0.3151995 for x in results[1]]\n",
    "stddown = [mean - (0.25646+0.3151995) for x in results[1]]\n",
    "x = np.linspace(0, len(results[1]), len(results[1]))\n",
    "plt.errorbar(results[0], results[1], yerr=sigW, marker='.')\n",
    "plt.fill_between(results[0], stdup, stddown, facecolor='green', alpha=0.3)\n",
    "plt.xlabel(\"Measurement date (MJD)\")\n",
    "plt.ylabel(\"Magnitude Difference\")\n",
    "plt.title(\"W1-W2 for a typical quasar, overlaid with +/- 1 standard dev\")\n"
   ]
  },
  {
   "cell_type": "code",
   "execution_count": null,
   "metadata": {
    "collapsed": true
   },
   "outputs": [],
   "source": []
  }
 ],
 "metadata": {
  "kernelspec": {
   "display_name": "Python 3",
   "language": "python",
   "name": "python3"
  },
  "language_info": {
   "codemirror_mode": {
    "name": "ipython",
    "version": 3
   },
   "file_extension": ".py",
   "mimetype": "text/x-python",
   "name": "python",
   "nbconvert_exporter": "python",
   "pygments_lexer": "ipython3",
   "version": "3.5.2"
  }
 },
 "nbformat": 4,
 "nbformat_minor": 2
}
