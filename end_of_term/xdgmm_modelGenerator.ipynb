{
 "cells": [
  {
   "cell_type": "code",
   "execution_count": 1,
   "metadata": {
    "collapsed": true
   },
   "outputs": [],
   "source": [
    "%matplotlib inline"
   ]
  },
  {
   "cell_type": "code",
   "execution_count": null,
   "metadata": {
    "collapsed": true
   },
   "outputs": [],
   "source": [
    "'''\n",
    "Generates XDGMM-based models from a selection of formatted CSV files of galaxies or quasars.\n",
    "Plots the models, the original data, and resampled data based on the model.\n",
    "'''"
   ]
  },
  {
   "cell_type": "code",
   "execution_count": null,
   "metadata": {
    "collapsed": true
   },
   "outputs": [],
   "source": []
  },
  {
   "cell_type": "code",
   "execution_count": null,
   "metadata": {
    "collapsed": false,
    "scrolled": true
   },
   "outputs": [],
   "source": []
  },
  {
   "cell_type": "code",
   "execution_count": 1,
   "metadata": {
    "collapsed": true
   },
   "outputs": [],
   "source": [
    "'''\n",
    "method name: fetchValsByEpoch\n",
    "purpose: takes information from csv files of galaxy/quasar objects and reads it into a set of arrays\n",
    "args:\n",
    "- epoch:epoch number (i.e. column in csv)\n",
    "- directorystr: string name of directory (e.g. \"/csvfiles/galaxies\")\n",
    "returns:\n",
    "- deltaW: array of W1-W2 data\n",
    "- sigW: array of the uncertainty on each deltaW value\n",
    "- notNullCount: number of files that did not have a null in that epoch\n",
    "- name: list of the names of all the objects\n",
    "- mjd: list of the MJD dates of each object's epoch\n",
    "'''\n",
    "\n",
    "import sklearn\n",
    "import nose\n",
    "import astroML_addons\n",
    "import astroML\n",
    "import scipy\n",
    "import pandas\n",
    "import xdgmm\n",
    "from astropy.io import fits\n",
    "import csv\n",
    "import os\n",
    "from shutil import copyfile\n",
    "import numpy as np\n",
    "import matplotlib.pyplot as plt\n",
    "import requests\n",
    "import ast\n",
    "\n",
    "import warnings\n",
    "warnings.filterwarnings('ignore')\n",
    "\n",
    "def fetchValsByEpoch(epoch, directorystr):\n",
    "    \n",
    "    deltaW = []\n",
    "    sigW = []\n",
    "    w1 = []\n",
    "    w2 = []\n",
    "    w1s = []\n",
    "    w2s = []\n",
    "    mjd = []\n",
    "    name = []\n",
    "    \n",
    "    directory = os.fsencode(directorystr)\n",
    "    filelist = os.listdir(directory)\n",
    "    print(len(filelist))\n",
    "    readdata = np.zeros((22,len(filelist)+1)) #one big list to rule them all\n",
    "    fileCount = 0 #to keep our place in each list as we go through the files\n",
    "    blankCount = 0\n",
    "    for file in filelist:\n",
    "        filestr = os.fsdecode(file)\n",
    "        if(filestr.endswith(\".csv\")):\n",
    "            readfile = open(directorystr+filestr, 'r')\n",
    "            #name.append(filestr)\n",
    "            reader = csv.reader(readfile)\n",
    "            typeIndex = 0 #to iterate through the w1, w2, etc list\n",
    "            nullCount = 0\n",
    "            rowCount = 0\n",
    "            \n",
    "            for row in enumerate(reader):\n",
    "                if rowCount < 5 or rowCount >= 14:\n",
    "                    if rowCount == 0 and row[1][1] == \"null|\":\n",
    "                        #print(\"Empty csv\")\n",
    "                        nullCount = nullCount + 1 #skip this file\n",
    "                    rowCount = rowCount + 1\n",
    "                    continue #skip the first and last rows\n",
    "                try:\n",
    "                    entry = row[1][epoch]\n",
    "                except IndexError:\n",
    "                    rowCount = rowCount + 1\n",
    "                    continue\n",
    "                try:\n",
    "                    fentry = float(entry)\n",
    "                    readdata[typeIndex][fileCount] = fentry\n",
    "                except ValueError:\n",
    "                    if entry != 'null': #this is a label; skip it\n",
    "                        rowCount = rowCount + 1 #keep track of where we are in the file\n",
    "                        continue #skip to next row, do not increment readdata row\n",
    "                    else: #this file isn't useful\n",
    "                        readdata[typeIndex][fileCount] = 99\n",
    "                        nullCount = nullCount + 1 #this is a null in W1 or W2. don't want this file\n",
    "                rowCount = rowCount + 1 #move on to the next row in the file\n",
    "                typeIndex = typeIndex + 1 #move to next row in the data array\n",
    "            if nullCount == 0:\n",
    "                fileCount = fileCount + 1 #overwrite if we found null in W1, W2.\n",
    "                name.append(filestr)\n",
    "                \n",
    "    print(\"Error count: \" + str(blankCount))    \n",
    "    w1 = [round(float(x), 4) for x in readdata[1]]\n",
    "    w2 = [round(float(x), 4) for x in readdata[3]]\n",
    "    w1s = [round(float(x), 4) for x in readdata[2]]\n",
    "    w2s = [round(float(x), 4) for x in readdata[4]]\n",
    "    mjd = [float(x) for x in readdata[0]]\n",
    "    \n",
    "    deltaW = [x - y for x,y in zip(w1,w2)]\n",
    "    sigW = [np.sqrt(sx**2 + sy**2) for sx,sy in zip(w1s, w2s)]\n",
    "    \n",
    "    notNullCount = 0\n",
    "    for val in w1:\n",
    "        if val != 0:\n",
    "            notNullCount = notNullCount + 1\n",
    "    deltaW = deltaW[:notNullCount]\n",
    "    sigW = sigW[:notNullCount] #trim the array of the extra length\n",
    "\n",
    "    return deltaW, sigW, notNullCount, name, mjd"
   ]
  },
  {
   "cell_type": "code",
   "execution_count": 2,
   "metadata": {
    "collapsed": false
   },
   "outputs": [
    {
     "name": "stdout",
     "output_type": "stream",
     "text": [
      "starting\n",
      "71581\n",
      "Error count: 0\n",
      "done\n"
     ]
    }
   ],
   "source": [
    "'''\n",
    "Constructs data arrays (deltaW, sigW, radec etc) in the correct formatting for the XDGMM algorithm\n",
    "'''\n",
    "\n",
    "print(\"starting\")\n",
    "result = fetchValsByEpoch(0, \"./csvfiles/galaxies/\") # or, your directorystr here\n",
    "deltaW = result[0]\n",
    "sigW = result[1]\n",
    "npoints = result[2]\n",
    "\n",
    "param_range = np.array([1, 2, 3, 4, 5, 6, 7, 8, 9, 10])\n",
    "deltaW = np.array(deltaW)\n",
    "\n",
    "deltaW = deltaW.reshape(deltaW.shape[0], 1)\n",
    "sigW = np.array(sigW)\n",
    "\n",
    "sigW = sigW.reshape(sigW.shape[0], 1,1)\n",
    "\n",
    "print(\"done\")\n",
    "\n"
   ]
  },
  {
   "cell_type": "code",
   "execution_count": 4,
   "metadata": {
    "collapsed": false
   },
   "outputs": [
    {
     "name": "stdout",
     "output_type": "stream",
     "text": [
      "starting\n",
      "N = 1 , BIC = 37794.2880012\n",
      "N = 2 , BIC = 38233.984868\n",
      "N = 3 , BIC = 38838.3833408\n",
      "N = 4 , BIC = 39046.1591535\n",
      "N = 5 , BIC = 39234.1206955\n",
      "N = 6 , BIC = 39196.3022565\n",
      "N = 7 , BIC = 37930.5239407\n",
      "N = 8 , BIC = 37978.8387158\n",
      "N = 9 , BIC = 37735.3741966\n",
      "N = 10 , BIC = 38416.522563\n",
      "done\n"
     ]
    }
   ],
   "source": [
    "'''\n",
    "Instantiates the XDGMM object (named xdgmm)\n",
    "Performs BIC test (to determine optimum number of Gaussians to fit)\n",
    "Note that this may take many hours to complete, if the sample size is large.\n",
    "'''\n",
    "\n",
    "print(\"starting\")\n",
    "\n",
    "xdgmm = xdgmm.XDGMM()\n",
    "\n",
    "bic, optimal_n_comp, lowest_bic = xdgmm.bic_test(deltaW, sigW, param_range)\n",
    "\n",
    "print('done')"
   ]
  },
  {
   "cell_type": "code",
   "execution_count": 16,
   "metadata": {
    "collapsed": false
   },
   "outputs": [
    {
     "name": "stdout",
     "output_type": "stream",
     "text": [
      "starting\n",
      "done\n"
     ]
    }
   ],
   "source": [
    "'''\n",
    "Adds model to xdgmm\n",
    "Saves model to file\n",
    "'''\n",
    "\n",
    "import datetime\n",
    "datestr = datetime.datetime.now().strftime(\"%Y-%m-%d\")\n",
    "\n",
    "print(\"starting\")\n",
    "xdgmm.n_components = optimal_n_comp\n",
    "xdgmm = xdgmm.fit(deltaW, sigW)\n",
    "print('done')\n",
    "\n",
    "xdgmm.save_model('galaxyModel'+datestr+'.fit')"
   ]
  },
  {
   "cell_type": "code",
   "execution_count": null,
   "metadata": {
    "collapsed": true
   },
   "outputs": [],
   "source": []
  },
  {
   "cell_type": "code",
   "execution_count": 18,
   "metadata": {
    "collapsed": false,
    "scrolled": false
   },
   "outputs": [
    {
     "data": {
      "text/plain": [
       "<matplotlib.text.Text at 0x11511cc88>"
      ]
     },
     "execution_count": 18,
     "metadata": {},
     "output_type": "execute_result"
    },
    {
     "data": {
      "image/png": "[encoded data removed]",
      "text/plain": [
       "<matplotlib.figure.Figure at 0x115894048>"
      ]
     },
     "metadata": {},
     "output_type": "display_data"
    },
    {
     "data": {
      "image/png": "[encoded data removed]",
      "text/plain": [
       "<matplotlib.figure.Figure at 0x11521a2b0>"
      ]
     },
     "metadata": {},
     "output_type": "display_data"
    },
    {
     "data": {
      "image/png": "[encoded data removed]",
      "text/plain": [
       "<matplotlib.figure.Figure at 0x1158a0278>"
      ]
     },
     "metadata": {},
     "output_type": "display_data"
    }
   ],
   "source": [
    "'''\n",
    "Plots the models. Insert your own model save files.\n",
    "'''\n",
    "\n",
    "%matplotlib inline\n",
    "\n",
    "\n",
    "import sklearn\n",
    "import nose\n",
    "import astroML_addons\n",
    "import astroML\n",
    "import scipy\n",
    "import pandas\n",
    "import xdgmm\n",
    "from astropy.io import fits\n",
    "import csv\n",
    "import os\n",
    "from shutil import copyfile\n",
    "import numpy as np\n",
    "import matplotlib.pyplot as plt\n",
    "\n",
    "import requests\n",
    "import ast\n",
    "\n",
    "import warnings\n",
    "warnings.filterwarnings('ignore')\n",
    "\n",
    "np.set_printoptions(threshold=np.nan)\n",
    "\n",
    "xdgmm = xdgmm.XDGMM(filename='galaxyModel2018-03-28.fit')         \n",
    "    \n",
    "def makeGaussian(x, mu, sig):\n",
    "    return (np.exp(-np.power(x - mu, 2.) / (2 * np.power(sig, 2.))))/(2.0*np.pi*sig)\n",
    "\n",
    "binwidth = 0.1\n",
    "\n",
    "sample = xdgmm.sample(npoints)\n",
    "plt.figure()\n",
    "h1 = plt.hist(sample, bins=np.arange(-1, 3, binwidth))\n",
    "plt.title('XDGMM-resampled W1-W2 band magnitude difference')\n",
    "plt.xlabel('Magnitude difference')\n",
    "plt.ylabel('Occurrence')\n",
    "\n",
    "plt.figure()\n",
    "\n",
    "x = np.arange(-0.5, 2.5, 0.01)\n",
    "plt.plot(x, makeGaussian(x, xdgmm.mu[0], xdgmm.weights[0]))\n",
    "plt.plot(x, makeGaussian(x, xdgmm.mu[1], xdgmm.weights[1]))\n",
    "plt.plot(x, makeGaussian(x, xdgmm.mu[2], xdgmm.weights[2]))\n",
    "plt.plot(x, makeGaussian(x, xdgmm.mu[3], xdgmm.weights[3]))\n",
    "plt.plot(x, makeGaussian(x, xdgmm.mu[4], xdgmm.weights[4]))\n",
    "plt.plot(x, makeGaussian(x, xdgmm.mu[5], xdgmm.weights[4]))\n",
    "# plt.plot(x, makeGaussian(x, xdgmm.mu[6], xdgmm.weights[4]))\n",
    "# plt.plot(x, makeGaussian(x, xdgmm.mu[7], xdgmm.weights[4]))\n",
    "# plt.plot(x, makeGaussian(x, xdgmm.mu[8], xdgmm.weights[4]))\n",
    "plt.title('Gaussian model components')\n",
    "plt.xlabel('Magnitude difference')\n",
    "plt.ylabel('Weight')\n",
    "\n",
    "\n",
    "plt.figure()\n",
    "\n",
    "plt.hist(deltaW, bins=np.arange(-1, 3, binwidth))\n",
    "plt.title('True W1-W2 band magnitude difference')\n",
    "plt.xlabel('Magnitude difference')\n",
    "plt.ylabel('Occurrence')\n"
   ]
  },
  {
   "cell_type": "code",
   "execution_count": null,
   "metadata": {
    "collapsed": false
   },
   "outputs": [],
   "source": []
  },
  {
   "cell_type": "code",
   "execution_count": null,
   "metadata": {
    "collapsed": true
   },
   "outputs": [],
   "source": []
  }
 ],
 "metadata": {
  "kernelspec": {
   "display_name": "Python 3",
   "language": "python",
   "name": "python3"
  },
  "language_info": {
   "codemirror_mode": {
    "name": "ipython",
    "version": 3
   },
   "file_extension": ".py",
   "mimetype": "text/x-python",
   "name": "python",
   "nbconvert_exporter": "python",
   "pygments_lexer": "ipython3",
   "version": "3.5.2"
  }
 },
 "nbformat": 4,
 "nbformat_minor": 2
}
